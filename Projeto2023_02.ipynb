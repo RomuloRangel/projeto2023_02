{
  "nbformat": 4,
  "nbformat_minor": 0,
  "metadata": {
    "colab": {
      "provenance": [],
      "authorship_tag": "ABX9TyNwEZKCxmqmcqiFZlmysc8p",
      "include_colab_link": true
    },
    "kernelspec": {
      "name": "python3",
      "display_name": "Python 3"
    },
    "language_info": {
      "name": "python"
    }
  },
  "cells": [
    {
      "cell_type": "markdown",
      "metadata": {
        "id": "view-in-github",
        "colab_type": "text"
      },
      "source": [
        "<a href=\"https://colab.research.google.com/github/RomuloRangel/projeto2023_02/blob/main/Projeto2023_02.ipynb\" target=\"_parent\"><img src=\"https://colab.research.google.com/assets/colab-badge.svg\" alt=\"Open In Colab\"/></a>"
      ]
    },
    {
      "cell_type": "markdown",
      "source": [
        "# Importando as bibliotecas necessarias"
      ],
      "metadata": {
        "id": "ktAXb5tC-cfh"
      }
    },
    {
      "cell_type": "code",
      "execution_count": 1,
      "metadata": {
        "id": "hrMGmFrL-R67"
      },
      "outputs": [],
      "source": [
        "import pandas as pd\n",
        "import numpy as np"
      ]
    },
    {
      "cell_type": "code",
      "source": [
        "#Definirei uma importação via URL\n",
        "url = ('')\n",
        "df = pd.read_csv(url)"
      ],
      "metadata": {
        "id": "jYnWTnfF-2EW"
      },
      "execution_count": null,
      "outputs": []
    }
  ]
}